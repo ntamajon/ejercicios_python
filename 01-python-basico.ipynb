{
 "cells": [
  {
   "cell_type": "markdown",
   "id": "e508452a",
   "metadata": {},
   "source": [
    "\n",
    "## Ejercicio 1: Operaciones Matemáticas Básicas\n",
    "\n",
    "**Objetivo:**\n",
    "\n",
    "**Escribe una función en Python llamada `operaciones_matematicas`** que reciba dos números enteros a y b, y realice las siguientes operaciones matemáticas:\n",
    "\n",
    "- Suma: a + b\n",
    "\n",
    "- Resta: a - b\n",
    "\n",
    "- Multiplicación: a * b\n",
    "\n",
    "- División: a / b, si b es diferente de 0; de lo contrario, devolver el mensaje \"División por cero no permitida\".\n",
    "\n",
    "- Resto de la división: a % b, si b es diferente de 0; de lo contrario, devolver el mensaje \"División por cero no permitida\".\n",
    "\n",
    "La función debe devolver estos cinco resultados en una tupla.\n"
   ]
  },
  {
   "cell_type": "markdown",
   "id": "8d85fd2c",
   "metadata": {},
   "source": [
    "\n",
    "**Ejemplo de entrada y salida:**\n",
    "```python\n",
    "a = 10\n",
    "b = 3\n",
    "resultado = operaciones_matematicas(a, b)\n",
    "print(\"Suma:\", resultado[0])         # 13\n",
    "print(\"Resta:\", resultado[1])        # 7\n",
    "print(\"Multiplicación:\", resultado[2]) # 30\n",
    "print(\"División:\", resultado[3])     # 3.3333...\n",
    "print(\"Residuo:\", resultado[4])      # 1\n",
    "```\n",
    "\n"
   ]
  },
  {
   "cell_type": "markdown",
   "id": "1b7d22d4",
   "metadata": {},
   "source": [
    "**Requisitos:**\n",
    "\n",
    "- La función debe manejar correctamente la división por cero.\n",
    "\n",
    "- Debe devolver los resultados como una tupla (suma, resta, multiplicación, división, resto).\n",
    "\n",
    "- Prueba la función con diferentes valores de entrada para verificar su correcto funcionamiento."
   ]
  },
  {
   "cell_type": "markdown",
   "id": "5b42523a",
   "metadata": {},
   "source": [
    "**Hint**\n",
    "\n",
    "1. Identificar las operaciones necesarias → Suma, resta, multiplicación, división y residuo.\n",
    "\n",
    "2. Implementar cada operación en Python → Usa los operadores +, -, *, / y %.\n",
    "\n",
    "3. Manejar la división por cero → Antes de dividir o calcular el residuo, verifica si b es 0.\n",
    "\n",
    "4. Retornar los resultados en una tupla → Usa return (suma, resta, multiplicación, división, resto).\n",
    "\n",
    "5. Probar la función con varios valores → Asegúrate de incluir casos donde b = 0 para verificar el manejo de errores."
   ]
  },
  {
   "cell_type": "code",
   "execution_count": 7,
   "id": "35e517dc",
   "metadata": {},
   "outputs": [],
   "source": [
    "def operaciones_matematicas(a, b):\n",
    "    suma = a + b\n",
    "    resta = a - b\n",
    "    multiplicacion = a * b\n",
    "    if b > 0:\n",
    "        division = a / b\n",
    "        residuo = a % b\n",
    "    else:\n",
    "        division = str('Error div/0')\n",
    "        residuo = str('Error div/0')\n",
    "    resultado = [suma, resta, multiplicacion, division, residuo]\n",
    "    return resultado\n"
   ]
  },
  {
   "cell_type": "code",
   "execution_count": 10,
   "id": "b8f96889",
   "metadata": {},
   "outputs": [
    {
     "name": "stdout",
     "output_type": "stream",
     "text": [
      "Suma: 13\n",
      "Resta: 7\n",
      "Multiplicación: 30\n",
      "División: 3.3333333333333335\n",
      "Residuo: 1\n"
     ]
    }
   ],
   "source": [
    "a = 10\n",
    "b = 3\n",
    "resultado = operaciones_matematicas(a, b)\n",
    "print(\"Suma:\", resultado[0])         \n",
    "print(\"Resta:\", resultado[1])        \n",
    "print(\"Multiplicación:\", resultado[2])\n",
    "print(\"División:\", resultado[3])\n",
    "print(\"Residuo:\", resultado[4])"
   ]
  },
  {
   "cell_type": "markdown",
   "id": "dfe10a7a",
   "metadata": {},
   "source": [
    "# Ejercicio 2: Calcular la suma y promedio de una lista de números\n",
    "\n",
    "**Objetivo:**\n",
    "\n",
    "**Desarrolla una función llamada `calcular_suma_y_promedio`** que tome como entrada una lista de números y calcule la suma de todos los números de la lista y el promedio de esos números.\n",
    "\n",
    "La función devolverá un diccionario con los resultados de la suma y el promedio\n",
    "\n",
    "\n",
    "\n",
    "\n"
   ]
  },
  {
   "cell_type": "markdown",
   "id": "fdf3cfa4",
   "metadata": {},
   "source": [
    "\n",
    "**Ejemplo de entrada y salida:**\n",
    "```python\n",
    "numeros = [1, 2, 3, 4, 5]\n",
    "resultado = calcular_suma_y_promedio(numeros)\n",
    "print(\"Suma:\", resultado[\"suma\"])\n",
    "print(\"Promedio:\", resultado[\"promedio\"])\n",
    "\n",
    "\n",
    "Suma: 15\n",
    "Promedio: 3.0\n",
    "```"
   ]
  },
  {
   "cell_type": "markdown",
   "id": "c39df2a1",
   "metadata": {},
   "source": [
    "**Hint**\n",
    "\n",
    "1. Utilizar el bucle for para recorrer los elementos de la lista\n",
    "\n",
    "2. Utilizar un diccionario para devolver los resultados\n",
    "\n"
   ]
  },
  {
   "cell_type": "code",
   "execution_count": 16,
   "id": "34f45641",
   "metadata": {},
   "outputs": [],
   "source": [
    "def calcular_suma_y_promedio(numeros):\n",
    "    suma = 0\n",
    "    for i in range(len(numeros)):\n",
    "        suma += numeros[i]\n",
    "    promedio = suma / len(numeros)\n",
    "    return {'suma': suma,\n",
    "            'promedio': promedio}"
   ]
  },
  {
   "cell_type": "code",
   "execution_count": 18,
   "id": "d4c9914e",
   "metadata": {},
   "outputs": [
    {
     "name": "stdout",
     "output_type": "stream",
     "text": [
      "Suma: 15\n",
      "Promedio: 3.0\n"
     ]
    }
   ],
   "source": [
    "numeros = [1, 2, 3, 4, 5]\n",
    "resultado = calcular_suma_y_promedio(numeros)\n",
    "print(\"Suma:\", resultado[\"suma\"])\n",
    "print(\"Promedio:\", resultado[\"promedio\"])\n"
   ]
  },
  {
   "cell_type": "markdown",
   "id": "c2702304",
   "metadata": {},
   "source": [
    "## Ejercicio 3: Frecuencia de elementos en una lista\n",
    "\n",
    "Crear una función denominada `contar_frecuencia` que tome una lista de números y calcule las veces (frecuencia) que aparece cada número en la lista y devuelva los resultados en forma de diccionario, donde cada clave será cada número distinto de la lista y cada valor será el número de veces que aparece ese número en la lista.\n"
   ]
  },
  {
   "cell_type": "markdown",
   "id": "acd5f733",
   "metadata": {},
   "source": [
    "\n",
    "**Ejemplo de entrada y salida:**\n",
    "```python\n",
    "elementos = [1, 2, 2, 3, 1, 2, 4, 5, 4]\n",
    "resultado = contar_frecuencia(elementos)\n",
    "print(resultado)\n",
    "\n",
    "\n",
    "{1: 2, 2: 3, 3: 1, 4: 2, 5: 1}\n",
    "```\n"
   ]
  },
  {
   "cell_type": "markdown",
   "id": "586e9f69",
   "metadata": {},
   "source": [
    "**Hint**\n",
    "\n",
    "Mediante un bucle while recorremos la lista de elementos y verificamos si el numero está en las claves del diccionario, y si lo está incrementamos en 1 su valor y si no está crearmos una entrada en el diccionario con el valor 1."
   ]
  },
  {
   "cell_type": "code",
   "execution_count": 44,
   "id": "f5e5095e",
   "metadata": {},
   "outputs": [],
   "source": [
    "def contar_frecuencia(elementos):\n",
    "    frecuencias = {}\n",
    "    for elemento in elementos:\n",
    "        if elemento in frecuencias:\n",
    "            frecuencias[elemento] += 1\n",
    "        else:\n",
    "            frecuencias[elemento] = 1\n",
    "    return frecuencias"
   ]
  },
  {
   "cell_type": "code",
   "execution_count": 43,
   "id": "069ab334",
   "metadata": {},
   "outputs": [
    {
     "name": "stdout",
     "output_type": "stream",
     "text": [
      "{1: 2, 2: 3, 3: 1, 4: 2, 5: 1}\n"
     ]
    }
   ],
   "source": [
    "elementos = [1, 2, 2, 3, 1, 2, 4, 5, 4]\n",
    "resultado = contar_frecuencia(elementos)\n",
    "print(resultado)"
   ]
  },
  {
   "cell_type": "markdown",
   "id": "8506ea71",
   "metadata": {},
   "source": [
    "## Ejercicio 4: Aplicar una Función y Filtrar Elementos en una Lista\n",
    "\n",
    "\n",
    "**Objetivo:**\n",
    "\n",
    "Escribe una función en Python llamada `aplicar_funcion_y_filtrar` que tome dos argumentos:\n",
    "\n",
    "1. **lista**: Una lista de números enteros.\n",
    "\n",
    "2. **valor_umbral**: Un número entero que servirá como umbral para filtrar los resultados.\n",
    "\n"
   ]
  },
  {
   "cell_type": "markdown",
   "id": "5dc17a95",
   "metadata": {},
   "source": [
    "**Ejemplo de entrada y salida:**\n",
    "\n",
    "```python\n",
    "numeros = [1, 2, 3, 4, 5]\n",
    "valor_umbral = 3\n",
    "resultado = aplicar_funcion_y_filtrar(numeros, valor_umbral)\n",
    "print(resultado)\n",
    "Salida esperada:\n",
    "\n",
    "[4, 9, 16, 25]\n",
    "\n",
    "```\n"
   ]
  },
  {
   "cell_type": "markdown",
   "id": "f922efa6",
   "metadata": {},
   "source": [
    "\n",
    "**Requisitos:**\n",
    "\n",
    "- La función debe elevar al cuadrado cada elemento de la lista.\n",
    "\n",
    "- Luego, debe filtrar y devolver solo aquellos valores que sean mayores que valor_umbral."
   ]
  },
  {
   "cell_type": "markdown",
   "id": "79b27280",
   "metadata": {},
   "source": [
    "**Hint** \n",
    "\n",
    "1. La primera tarea es crear una función lambda que calcule el cuadrado de un número y luego utilizaremos la función map para aplicar esa función lambda a cada elemento de la lista. El resultado debe convertirse nuevamente a una lista.\n",
    "\n",
    "2. La segunda tarea es crear una función lambda que verifique si un número es mayor que el valor_maximo, y aplicar filter para aplicar esa función lambda a los elementos de la lista y filtrar así los elementos que nos instersa.\n",
    "\n",
    "3. El resultado debe convertirse nuevamente a una lista y será lo que devuelva nuestra función.\n",
    "\n"
   ]
  },
  {
   "cell_type": "code",
   "execution_count": 50,
   "id": "c5d3b11d",
   "metadata": {},
   "outputs": [],
   "source": [
    "#opción sin lambda\n",
    "def aplicar_funcion_y_filtrar(lista, valor_umbral):\n",
    "    cuadrados = []\n",
    "    for elemento in lista:\n",
    "        cuadrados.append(elemento ** 2)\n",
    "    filtrada = []\n",
    "    for cuadrado in cuadrados:\n",
    "        if cuadrado > valor_umbral:\n",
    "            filtrada.append(cuadrado)\n",
    "        else:\n",
    "            pass\n",
    "    return filtrada\n",
    "\n"
   ]
  },
  {
   "cell_type": "code",
   "execution_count": 51,
   "id": "3ee51703",
   "metadata": {},
   "outputs": [
    {
     "name": "stdout",
     "output_type": "stream",
     "text": [
      "[4, 9, 16, 25]\n"
     ]
    }
   ],
   "source": [
    "numeros = [1, 2, 3, 4, 5]\n",
    "valor_umbral = 3\n",
    "resultado = aplicar_funcion_y_filtrar(numeros, valor_umbral)\n",
    "print(resultado)"
   ]
  },
  {
   "cell_type": "code",
   "execution_count": 58,
   "id": "795c5da2",
   "metadata": {},
   "outputs": [],
   "source": [
    "#opción con list comprehension\n",
    "def aplicar_funcion_y_filtrar_2(numeros, valor_umbral):\n",
    "    cuadr = [numero ** 2 for numero in numeros]\n",
    "    filtro = [elemento for elemento in cuadr if elemento > valor_umbral]\n",
    "    return filtro\n"
   ]
  },
  {
   "cell_type": "code",
   "execution_count": 57,
   "id": "1232a4b8",
   "metadata": {},
   "outputs": [
    {
     "name": "stdout",
     "output_type": "stream",
     "text": [
      "[4, 9, 16, 25]\n"
     ]
    }
   ],
   "source": [
    "numeros = [1, 2, 3, 4, 5]\n",
    "valor_umbral = 3\n",
    "resultado = aplicar_funcion_y_filtrar_2(numeros, valor_umbral)\n",
    "print(resultado)"
   ]
  }
 ],
 "metadata": {
  "kernelspec": {
   "display_name": "ih_base",
   "language": "python",
   "name": "python3"
  },
  "language_info": {
   "codemirror_mode": {
    "name": "ipython",
    "version": 3
   },
   "file_extension": ".py",
   "mimetype": "text/x-python",
   "name": "python",
   "nbconvert_exporter": "python",
   "pygments_lexer": "ipython3",
   "version": "3.10.4"
  }
 },
 "nbformat": 4,
 "nbformat_minor": 5
}
