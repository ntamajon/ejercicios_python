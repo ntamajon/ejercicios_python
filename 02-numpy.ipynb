{
 "cells": [
  {
   "cell_type": "markdown",
   "id": "28bd3f8c",
   "metadata": {},
   "source": [
    "\n",
    "## Ejercicio 1: Generar N números aleatorios enteros entre un valor mínimo y máximo\n",
    "\n",
    "**Objetivo:**\n",
    "\n",
    "Desarrolla una función llamada `generar_numeros_enteros_aleatorios` que tome como entrada el número de elementos N, un valor mínimo minimo y un valor máximo maximo, y utilice NumPy para generar una lista de N números enteros aleatorios en el rango [minimo, maximo].\n"
   ]
  },
  {
   "cell_type": "markdown",
   "id": "e31dd85f",
   "metadata": {},
   "source": [
    "**Ejemplo de entrada y salida:**\n",
    "\n",
    "```python\n",
    "N = 5\n",
    "minimo = 1\n",
    "maximo = 10\n",
    "resultado = generar_numeros_enteros_aleatorios(N, minimo, maximo)\n",
    "print(resultado)\n",
    "\n",
    "\n",
    "Resultado:\n",
    "\n",
    "[4, 10, 1, 8, 2]\n",
    "```"
   ]
  },
  {
   "cell_type": "markdown",
   "id": "b7293a92",
   "metadata": {},
   "source": [
    "**Hint**\n",
    "\n",
    "1. Utiliza la función rand.randint() del módulo numpy para generar números aleatorios.\n",
    "\n",
    "2. Ten en cuenta que si quieres incluir también al valor_maximo como valor posible, tienes que pasar a la función randint el valor_maximo + 1\n",
    "\n",
    "3. Utiliza la función tolist() para convertir la salida de randint() en una lista"
   ]
  },
  {
   "cell_type": "code",
   "execution_count": 3,
   "id": "9e72ec7c",
   "metadata": {},
   "outputs": [],
   "source": [
    "import numpy as np"
   ]
  },
  {
   "cell_type": "code",
   "execution_count": 5,
   "id": "afd1b6c5",
   "metadata": {},
   "outputs": [],
   "source": [
    "def generar_numeros_enteros_aleatorios(N, minimo, maximo):\n",
    "    rand_list = np.random.randint(minimo, maximo, size=N)\n",
    "    rand_list = rand_list.tolist()\n",
    "    return rand_list"
   ]
  },
  {
   "cell_type": "code",
   "execution_count": 6,
   "id": "4e2efff5",
   "metadata": {},
   "outputs": [
    {
     "name": "stdout",
     "output_type": "stream",
     "text": [
      "[3, 2, 5, 2, 3]\n"
     ]
    }
   ],
   "source": [
    "N = 5\n",
    "minimo = 1\n",
    "maximo = 10\n",
    "resultado = generar_numeros_enteros_aleatorios(N, minimo, maximo)\n",
    "print(resultado)"
   ]
  },
  {
   "cell_type": "markdown",
   "id": "d5d59405",
   "metadata": {},
   "source": [
    "## Ejercicio 2: Generar una Secuencia de Números\n",
    "\n",
    "**Objetivo:**\n",
    "\n",
    "Desarrolla una función llamada `generar_secuencia_numerica` que tome como entrada un valor mínimo minimo, un valor máximo maximo y un paso paso, y utilice NumPy para generar una secuencia de números en el rango [minimo, maximo) con el paso especificado.\n",
    "\n",
    "\n"
   ]
  },
  {
   "cell_type": "markdown",
   "id": "8ae4b48b",
   "metadata": {},
   "source": [
    "\n",
    "**Ejemplo de entrada y salida:**\n",
    "\n",
    "```python \n",
    "minimo = 0\n",
    "maximo = 10\n",
    "paso = 2\n",
    "resultado = generar_secuencia_numerica(minimo, maximo, paso)\n",
    "print(resultado)\n",
    "\n",
    "\n",
    "Resultado\n",
    "\n",
    "[0 2 4 6 8]\n",
    "\n",
    "\n",
    "Tipo de datos del resultado\n",
    "\n",
    "type(resultado)\n",
    "\n",
    "\n",
    "\n",
    "numpy.ndarray\n",
    "``` "
   ]
  },
  {
   "cell_type": "markdown",
   "id": "7533f84b",
   "metadata": {},
   "source": [
    "**Hint**\n",
    "\n",
    "Utiliza la función `arange()` pasándole como argumentos el minimo, maximo y el paso para generar la secuencia de números"
   ]
  },
  {
   "cell_type": "code",
   "execution_count": 13,
   "id": "0e588f1e",
   "metadata": {},
   "outputs": [],
   "source": [
    "def generar_secuencia_numerica(minimo, maximo, paso):\n",
    "    resultado = np.array(range(minimo, maximo, 2))\n",
    "    return resultado, (resultado.dtype)"
   ]
  },
  {
   "cell_type": "code",
   "execution_count": 15,
   "id": "f96b95e7",
   "metadata": {},
   "outputs": [
    {
     "name": "stdout",
     "output_type": "stream",
     "text": [
      "(array([0, 2, 4, 6, 8]), dtype('int32'))\n"
     ]
    }
   ],
   "source": [
    "minimo = 0\n",
    "maximo = 10\n",
    "paso = 2\n",
    "resultado = generar_secuencia_numerica(minimo, maximo, paso)\n",
    "print(resultado)"
   ]
  },
  {
   "cell_type": "markdown",
   "id": "4123c0b3",
   "metadata": {},
   "source": [
    "## Ejercicio 3: Finanzas personales\n",
    "\n",
    "**Objetivo:**\n",
    "\n",
    "Crear una función en Python que realice operaciones con arrays utilizando NumPy para analizar las finanzas personales de un estudiante. La función debe recibir dos arrays: uno con los ingresos mensuales de un estudiante durante un año y otro con sus gastos mensuales. La función debe devolver el balance mensual (ingresos - gastos), la suma total de los ingresos, la suma total de los gastos, y el saldo total (ingresos totales - gastos totales) durante todo el año.\n",
    "\n",
    "**Requisitos:**\n",
    "\n",
    "Crear la función `analizar_finanzas`:\n",
    "\n",
    "- La función debe recibir dos arrays de 12 elementos: uno con los ingresos mensuales (ingresos) y otro con los gastos mensuales (gastos).\n",
    "\n",
    "- La función debe realizar las siguientes operaciones:\n",
    "\n",
    "  - `Balance mensual`: Resta los ingresos menos los gastos para cada mes.\n",
    "\n",
    "  - `Total de ingresos`: Suma todos los ingresos del año.\n",
    "\n",
    "  - `Total de gastos`: Suma todos los gastos del año.\n",
    "\n",
    "  - `Saldo final`: Calcula el saldo final del año (total ingresos - total gastos).\n",
    "\n",
    "- La salida debe ser un array con estos 4 resultados: resultado = [balance_mensual, total_ingresos, total_gastos, saldo_final]\n",
    "\n",
    "- Debes usar la librería NumPy para hacer las operaciones de forma eficiente.\n",
    "\n",
    "- Los datos de los ingresos y los gastos deben ser positivos (no considerar valores negativos).\n",
    "\n",
    "\n",
    "\n",
    "\n"
   ]
  },
  {
   "cell_type": "markdown",
   "id": "37322eed",
   "metadata": {},
   "source": [
    "\n",
    "**Ejemplo de entrada y salida:**\n",
    "\n",
    "```python\n",
    "ingresos  = [1500, 1600, 1700, 1650, 1800, 1900, 2000, 2100, 2200, 2300, 2400, 2500]\n",
    "\n",
    "gastos = [1000, 1100, 1200, 1150, 1300, 1400, 1500, 1600, 1700, 1800, 1900, 2000]\n",
    "\n",
    "Salida esperada: La salida de la función debe ser un array con los resultados de las operaciones, de la siguiente forma:\n",
    "\n",
    "resultado = [\n",
    "  [500, 500, 500, 500, 500, 500, 500, 500, 500, 500, 500, 500],\n",
    "  23650,                                                           \n",
    "  17650,                                                            \n",
    "  6000]\n",
    "```"
   ]
  },
  {
   "cell_type": "markdown",
   "id": "47dda004",
   "metadata": {},
   "source": [
    "**Hint** \n",
    "\n",
    "1. Usa numpy: Convierte las listas de ingresos y gastos a arrays de numpy para realizar operaciones de manera más sencilla y eficiente.\n",
    "\n",
    "2. Haz operaciones vectorizadas: Aprovecha que numpy permite realizar operaciones directamente entre arrays (como resta y suma de los ingresos y los gastos).\n",
    "\n",
    "3. Divide el problema: Calcula el balance mensual, luego el total de ingresos y gastos, y por último el saldo final. Esto hace que el código sea más organizado y fácil de depurar.\n",
    "\n",
    "4. Verifica los resultados: Compara los resultados con ejemplos manuales para asegurarte de que los cálculos son correctos.\n",
    "\n",
    "5. Prueba con datos simples: Empieza con datos fáciles de manejar para asegurarte de que cada parte de la función funciona correctamente antes de usar datos más complejos."
   ]
  },
  {
   "cell_type": "code",
   "execution_count": 22,
   "id": "56b37268",
   "metadata": {},
   "outputs": [],
   "source": [
    "ingresos  = [1500, 1600, 1700, 1650, 1800, 1900, 2000, 2100, 2200, 2300, 2400, 2500]\n",
    "\n",
    "gastos = [1000, 1100, 1200, 1150, 1300, 1400, 1500, 1600, 1700, 1800, 1900, 2000]"
   ]
  },
  {
   "cell_type": "code",
   "execution_count": 26,
   "id": "99b5dfe5",
   "metadata": {},
   "outputs": [],
   "source": [
    "def analizar_finanzas(ingresos, gastos):\n",
    "    for ingreso in ingresos:\n",
    "        if ingreso > 0:\n",
    "            pass\n",
    "        else:\n",
    "            print('Error, ingreso debe ser positivo')\n",
    "    for gasto in gastos:\n",
    "        if gasto > 0:\n",
    "            pass\n",
    "        else:\n",
    "           print('Error, gasto debe ser positivo') \n",
    "    ingresos = np.array(ingresos)\n",
    "    gastos = np.array(gastos)\n",
    "    balance_mensual = ingresos - gastos\n",
    "    total_ingresos = np.sum(ingresos)\n",
    "    total_gastos = np.sum(gastos)\n",
    "    saldo_final = total_ingresos - total_gastos\n",
    "    resultado = [balance_mensual, total_ingresos, total_gastos, saldo_final]\n",
    "    return resultado"
   ]
  },
  {
   "cell_type": "code",
   "execution_count": 27,
   "id": "97381125",
   "metadata": {},
   "outputs": [
    {
     "data": {
      "text/plain": [
       "[array([500, 500, 500, 500, 500, 500, 500, 500, 500, 500, 500, 500]),\n",
       " 23650,\n",
       " 17650,\n",
       " 6000]"
      ]
     },
     "execution_count": 27,
     "metadata": {},
     "output_type": "execute_result"
    }
   ],
   "source": [
    "analizar_finanzas(ingresos, gastos)"
   ]
  }
 ],
 "metadata": {
  "kernelspec": {
   "display_name": "base",
   "language": "python",
   "name": "python3"
  },
  "language_info": {
   "codemirror_mode": {
    "name": "ipython",
    "version": 3
   },
   "file_extension": ".py",
   "mimetype": "text/x-python",
   "name": "python",
   "nbconvert_exporter": "python",
   "pygments_lexer": "ipython3",
   "version": "3.11.7"
  }
 },
 "nbformat": 4,
 "nbformat_minor": 5
}
