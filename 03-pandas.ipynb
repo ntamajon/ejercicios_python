{
 "cells": [
  {
   "cell_type": "markdown",
   "id": "0ce5f281",
   "metadata": {},
   "source": [
    "## Ejercicio 1: Calcular promedio\n",
    "\n",
    "**Objetivo:**\n",
    "\n",
    "Desarrolla una función llamada `calcular_promedio` que tome como entrada un DataFrame de pandas que contiene datos numéricos y calcule el promedio de cada columna. La función debe devolver un nuevo DataFrame que contenga los promedios de cada columna.\n"
   ]
  },
  {
   "cell_type": "markdown",
   "id": "e0a238e0",
   "metadata": {},
   "source": [
    "\n",
    "\n",
    "\n",
    "**Ejemplo de entrada y salida:**\n",
    "\n",
    "```python\n",
    "data = {\n",
    "    'A': [1, 2, 3, 4],\n",
    "    'B': [5, 6, 7, 8],\n",
    "    'C': [9, 10, 11, 12]\n",
    "}\n",
    " \n",
    "df = pd.DataFrame(data)\n",
    "resultado = calcular_promedio(df)\n",
    "print(resultado)\n",
    "\n",
    "\n",
    "Resultado\n",
    "\n",
    "\n",
    "\n",
    "A     2.5\n",
    "B     6.5\n",
    "C    10.5\n",
    "dtype: float64\n",
    "\n",
    "```"
   ]
  },
  {
   "cell_type": "markdown",
   "id": "98e823b9",
   "metadata": {},
   "source": [
    "**Hint**\n",
    "\n",
    "\n",
    "Utiliza la función `mean()` para calcular la media de cada columna del DataFrame"
   ]
  },
  {
   "cell_type": "code",
   "execution_count": 1,
   "id": "1e9f525c",
   "metadata": {},
   "outputs": [],
   "source": [
    "import pandas as pd"
   ]
  },
  {
   "cell_type": "code",
   "execution_count": 12,
   "id": "043a04f8",
   "metadata": {},
   "outputs": [],
   "source": [
    "def calcular_promedio(df):\n",
    "    df.loc['promedio'] = df.mean()\n",
    "    return df"
   ]
  },
  {
   "cell_type": "code",
   "execution_count": 13,
   "id": "4e819887",
   "metadata": {},
   "outputs": [
    {
     "name": "stdout",
     "output_type": "stream",
     "text": [
      "            A    B     C\n",
      "0         1.0  5.0   9.0\n",
      "1         2.0  6.0  10.0\n",
      "2         3.0  7.0  11.0\n",
      "3         4.0  8.0  12.0\n",
      "promedio  2.5  6.5  10.5\n"
     ]
    }
   ],
   "source": [
    "data = {\n",
    "    'A': [1, 2, 3, 4],\n",
    "    'B': [5, 6, 7, 8],\n",
    "    'C': [9, 10, 11, 12]\n",
    "}\n",
    " \n",
    "df = pd.DataFrame(data)\n",
    "resultado = calcular_promedio(df)\n",
    "print(resultado)"
   ]
  },
  {
   "cell_type": "markdown",
   "id": "fa12ab20",
   "metadata": {},
   "source": [
    "## Ejercicio 2: Seleccionar datos\n",
    "\n",
    "Desarrolla una función llamada `seleccionar_datos` que tome como entrada un DataFrame de pandas que contiene información sobre estudiantes (por ejemplo, nombre, edad, calificaciones, etc.) y seleccione un subconjunto de datos basado en ciertos criterios.\n",
    "\n",
    "Los criterios se pueden basar en el nombre, edad o calificaciones\n",
    "\n",
    "   \n",
    "\n",
    "**Ejemplo de entrada y salida:**\n",
    "\n",
    "```python\n",
    "\n",
    "data = {\n",
    "    'nombre': ['Alice', 'Bob', 'Charlie', 'David'],\n",
    "    'edad': [20, 22, 18, 25],\n",
    "    'calificaciones': [90, 88, 75, 95]\n",
    "}\n",
    " \n",
    "df = pd.DataFrame(data)\n",
    "criterio = 'edad > 18'\n",
    "resultado = seleccionar_datos(df, criterio)\n",
    "print(resultado)\n",
    "\n",
    "\n",
    "\n",
    "\n",
    "  nombre  edad  calificaciones\n",
    "0  Alice    20              90\n",
    "1    Bob    22              88\n",
    "3  David    25              95\n",
    "\n",
    "\n",
    "```\n",
    "\n",
    "\n",
    "**Hint**\n",
    "\n",
    "\n",
    "Utilizar la función `query` para selecionar datos basados en un criterio proporcionado por una cadena de texto\n",
    "\n"
   ]
  },
  {
   "cell_type": "code",
   "execution_count": 14,
   "id": "03376150",
   "metadata": {},
   "outputs": [],
   "source": [
    "def seleccionar_datos(df, criterio):\n",
    "    resultado = df.query(criterio)\n",
    "    return resultado"
   ]
  },
  {
   "cell_type": "code",
   "execution_count": 15,
   "id": "eb0102ed",
   "metadata": {},
   "outputs": [
    {
     "name": "stdout",
     "output_type": "stream",
     "text": [
      "  nombre  edad  calificaciones\n",
      "0  Alice    20              90\n",
      "1    Bob    22              88\n",
      "3  David    25              95\n"
     ]
    }
   ],
   "source": [
    "data = {\n",
    "    'nombre': ['Alice', 'Bob', 'Charlie', 'David'],\n",
    "    'edad': [20, 22, 18, 25],\n",
    "    'calificaciones': [90, 88, 75, 95]\n",
    "}\n",
    " \n",
    "df = pd.DataFrame(data)\n",
    "criterio = 'edad > 18'\n",
    "resultado = seleccionar_datos(df, criterio)\n",
    "print(resultado)"
   ]
  },
  {
   "cell_type": "markdown",
   "id": "610a2266",
   "metadata": {},
   "source": [
    "## Ejercicio 3: Rellenar Valores Nulos con la Media de una Columna\n",
    "\n",
    "\n",
    "Desarrolla una función llamada `rellenar_con_media` que tome como entrada un DataFrame de pandas y el nombre de una columna. La función debe calcular la media de esa columna y luego llenar los valores nulos en esa columna con la media calculada.\n",
    " \n",
    "\n",
    "**Ejemplo de entrada y salida:**\n",
    "\n",
    "```python\n",
    "data = {\n",
    "    'nombre': ['Alice', 'Bob', 'Charlie', 'David', 'Eve'],\n",
    "    'edad': [20, None, 18, 25, None],\n",
    "    'calificaciones': [90, 88, None, None, 95]\n",
    "}\n",
    " \n",
    "df = pd.DataFrame(data)\n",
    "columna = 'calificaciones'\n",
    " \n",
    "resultado = rellenar_con_media(df, columna)\n",
    "print(resultado)\n",
    "\n",
    "\n",
    "Resultado:\n",
    "\n",
    "\n",
    "\n",
    "   nombre  edad  calificaciones\n",
    "0    Alice  20.0            90.0\n",
    "1      Bob   NaN            88.0\n",
    "2  Charlie  18.0            91.0\n",
    "3    David  25.0            91.0\n",
    "4      Eve   NaN            95.0\n",
    "\n",
    "\n",
    "```\n"
   ]
  },
  {
   "cell_type": "code",
   "execution_count": 21,
   "id": "2708ff6e",
   "metadata": {},
   "outputs": [],
   "source": [
    "def rellenar_con_media(df, columna):\n",
    "    df[columna] = df[columna].fillna(df[columna].mean())\n",
    "    return df"
   ]
  },
  {
   "cell_type": "code",
   "execution_count": 22,
   "id": "e9a8601d",
   "metadata": {},
   "outputs": [
    {
     "name": "stdout",
     "output_type": "stream",
     "text": [
      "    nombre  edad  calificaciones\n",
      "0    Alice  20.0            90.0\n",
      "1      Bob   NaN            88.0\n",
      "2  Charlie  18.0            91.0\n",
      "3    David  25.0            91.0\n",
      "4      Eve   NaN            95.0\n"
     ]
    }
   ],
   "source": [
    "data = {\n",
    "    'nombre': ['Alice', 'Bob', 'Charlie', 'David', 'Eve'],\n",
    "    'edad': [20, None, 18, 25, None],\n",
    "    'calificaciones': [90, 88, None, None, 95]\n",
    "}\n",
    " \n",
    "df = pd.DataFrame(data)\n",
    "columna = 'calificaciones'\n",
    " \n",
    "resultado = rellenar_con_media(df, columna)\n",
    "print(resultado)"
   ]
  }
 ],
 "metadata": {
  "kernelspec": {
   "display_name": "base",
   "language": "python",
   "name": "python3"
  },
  "language_info": {
   "codemirror_mode": {
    "name": "ipython",
    "version": 3
   },
   "file_extension": ".py",
   "mimetype": "text/x-python",
   "name": "python",
   "nbconvert_exporter": "python",
   "pygments_lexer": "ipython3",
   "version": "3.11.7"
  }
 },
 "nbformat": 4,
 "nbformat_minor": 5
}
